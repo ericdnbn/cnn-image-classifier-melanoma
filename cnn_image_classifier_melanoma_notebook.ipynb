{
 "cells": [
  {
   "cell_type": "code",
   "execution_count": 14,
   "metadata": {},
   "outputs": [
    {
     "ename": "TabError",
     "evalue": "inconsistent use of tabs and spaces in indentation (capstone_funcs.py, line 5)",
     "output_type": "error",
     "traceback": [
      "Traceback \u001b[0;36m(most recent call last)\u001b[0m:\n",
      "  File \u001b[1;32m\"/opt/anaconda3/envs/learn-env/lib/python3.8/site-packages/IPython/core/interactiveshell.py\"\u001b[0m, line \u001b[1;32m3417\u001b[0m, in \u001b[1;35mrun_code\u001b[0m\n    exec(code_obj, self.user_global_ns, self.user_ns)\n",
      "\u001b[0;36m  File \u001b[0;32m\"<ipython-input-14-e0677ec98784>\"\u001b[0;36m, line \u001b[0;32m17\u001b[0;36m, in \u001b[0;35m<module>\u001b[0;36m\u001b[0m\n\u001b[0;31m    from capstone_funcs import visualize_filepath\u001b[0m\n",
      "\u001b[0;36m  File \u001b[0;32m\"/Users/ericdenbin/Documents/flatiron_ds/5_phase/capstone/cnn-image-classifier-melanoma/capstone_funcs.py\"\u001b[0;36m, line \u001b[0;32m5\u001b[0m\n\u001b[0;31m    ax.imshow(filepath[i], cmap='gray')\u001b[0m\n\u001b[0m                                       ^\u001b[0m\n\u001b[0;31mTabError\u001b[0m\u001b[0;31m:\u001b[0m inconsistent use of tabs and spaces in indentation\n"
     ]
    }
   ],
   "source": [
    "# Load dependencies\n",
    "import os, shutil\n",
    "import datetime\n",
    "import numpy as np\n",
    "import matplotlib.pyplot as plt\n",
    "import matplotlib.ticker as mtick\n",
    "import matplotlib.image as mpimg\n",
    "import keras\n",
    "from keras.preprocessing import image\n",
    "from keras.preprocessing.image import ImageDataGenerator\n",
    "from keras import models\n",
    "from keras.layers import Dense, Dropout, Conv2D, MaxPooling2D, Flatten, Activation, BatchNormalization\n",
    "from keras.regularizers import l2\n",
    "from keras.optimizers import Adam, SGD\n",
    "from sklearn.metrics import confusion_matrix, ConfusionMatrixDisplay\n",
    "from sklearn.utils import class_weight\n",
    "from capstone_funcs import visualize_filepath\n",
    "\n",
    "#from project_functions import get_images, preprocess_dense_data, preprocess_cnn_data, visualize_results_cnn,\\\n",
    " #                                visualize_training_results, get_class_weights, cnn_model\n",
    "\n",
    "%load_ext autoreload\n",
    "%autoreload 2\n",
    "%matplotlib inline"
   ]
  },
  {
   "cell_type": "code",
   "execution_count": 7,
   "metadata": {},
   "outputs": [],
   "source": [
    "# Filepaths\n",
    "train_dir = 'dermoscopic_images/train'\n",
    "test_dir = 'dermoscopic_images/test/' \n",
    "\n",
    "# Check functionality and num images\n",
    "train_benign_dir = os.path.join(train_dir, 'benign')\n",
    "train_malignant_dir = os.path.join(train_dir, 'malignant')\n",
    "train_unknown_dir = os.path.join(train_dir, 'unknown')\n",
    "train_normal_dir\n",
    "\n",
    "test_benign_dir = os.path.join(test_dir, 'benign')\n",
    "test_malignant_dir = os.path.join(test_dir, 'malignant')\n",
    "test_unknown_dir = os.path.join(test_dir, 'unknown')"
   ]
  },
  {
   "cell_type": "code",
   "execution_count": 10,
   "metadata": {},
   "outputs": [
    {
     "name": "stdout",
     "output_type": "stream",
     "text": [
      "There are 2400 benign images in the training set\n",
      "There are 1500 malignant images in the training set\n",
      "There are 1500 unknown images in the training set\n",
      "\n",
      "There are 600 benign images in the testing set\n",
      "There are 600 malignant images in the testing set\n",
      "There are 579 unknown images in the testing set\n"
     ]
    }
   ],
   "source": [
    "# Check number of files\n",
    "print('There are', len(os.listdir(train_benign_dir)), 'benign images in the training set')\n",
    "print('There are', len(os.listdir(train_malignant_dir)), 'malignant images in the training set')\n",
    "print('There are', len(os.listdir(train_unknown_dir)), 'unknown images in the training set')\n",
    "print('')\n",
    "print('There are', len(os.listdir(test_benign_dir)), 'benign images in the testing set')\n",
    "print('There are', len(os.listdir(test_malignant_dir)), 'malignant images in the testing set')\n",
    "print('There are', len(os.listdir(test_unknown_dir)), 'unknown images in the testing set')"
   ]
  },
  {
   "cell_type": "code",
   "execution_count": 6,
   "metadata": {},
   "outputs": [],
   "source": [
    "# Delete metadata files created by Mac OS\n",
    "!find . -name \".DS_Store\" -delete"
   ]
  },
  {
   "cell_type": "code",
   "execution_count": 12,
   "metadata": {},
   "outputs": [
    {
     "name": "stderr",
     "output_type": "stream",
     "text": [
      "<ipython-input-12-a3b6e40039f6>:11: UserWarning: FixedFormatter should only be used together with FixedLocator\n",
      "  ax.set_yticklabels([str(int(p*100))+'%' for p in ax.get_yticks()])\n"
     ]
    },
    {
     "data": {
      "image/png": "[encoded data removed]",
      "text/plain": [
       "<Figure size 576x576 with 1 Axes>"
      ]
     },
     "metadata": {
      "needs_background": "light"
     },
     "output_type": "display_data"
    }
   ],
   "source": [
    "# Visualize class distribution in training data\n",
    "total_images = len(os.listdir(train_benign_dir)) + len(os.listdir(train_malignant_dir)) + len(os.listdir(train_unknown_dir))\n",
    "fig, ax = plt.subplots(figsize=(8, 8))\n",
    "\n",
    "ax.bar(x=['Benign', 'Malignant', 'Unknown'], height=[len(os.listdir(train_benign_dir))/total_images, \n",
    "                                          len(os.listdir(train_malignant_dir))/total_images,\n",
    "                                          len(os.listdir(train_unknown_dir))/total_images])\n",
    "ax.set_title('Class Distribution in Training Data', size=15)\n",
    "ax.set_ylabel('Percentage of Dataset', size=13)\n",
    "ax.set_xlabel('Dermoscopic Image Class', size=13)\n",
    "ax.set_yticklabels([str(int(p*100))+'%' for p in ax.get_yticks()])\n",
    "plt.show()"
   ]
  },
  {
   "cell_type": "code",
   "execution_count": 13,
   "metadata": {},
   "outputs": [],
   "source": [
    "train_benign_filepaths = [os.path.join(train_benign_dir, name) for name in os.listdir(train_benign_dir)]\n",
    "train_malignant_filepaths = [os.path.join(train_malignant_dir, name) for name in os.listdir(train_malignant_dir)]\n",
    "train_unknown_filepaths = [os.path.join(train_unknown_dir, name) for name in os.listdir(train_unknown_dir)]"
   ]
  },
  {
   "cell_type": "code",
   "execution_count": null,
   "metadata": {},
   "outputs": [],
   "source": []
  }
 ],
 "metadata": {
  "kernelspec": {
   "display_name": "Python (learn-env)",
   "language": "python",
   "name": "learn-env"
  },
  "language_info": {
   "codemirror_mode": {
    "name": "ipython",
    "version": 3
   },
   "file_extension": ".py",
   "mimetype": "text/x-python",
   "name": "python",
   "nbconvert_exporter": "python",
   "pygments_lexer": "ipython3",
   "version": "3.8.5"
  }
 },
 "nbformat": 4,
 "nbformat_minor": 4
}
